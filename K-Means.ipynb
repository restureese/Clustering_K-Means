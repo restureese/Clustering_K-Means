{
 "cells": [
  {
   "cell_type": "markdown",
   "metadata": {},
   "source": [
    "# Load Dataset"
   ]
  },
  {
   "cell_type": "code",
   "execution_count": 1,
   "metadata": {},
   "outputs": [],
   "source": [
    "import pandas as pd\n",
    "\n",
    "df = pd.read_csv('data.csv',header=None)\n",
    "# print(df)"
   ]
  },
  {
   "cell_type": "markdown",
   "metadata": {},
   "source": [
    "# Preprocessing"
   ]
  },
  {
   "cell_type": "code",
   "execution_count": 2,
   "metadata": {},
   "outputs": [],
   "source": [
    "X = []\n",
    "for value in df[1]:\n",
    "     X.append([value])"
   ]
  },
  {
   "cell_type": "markdown",
   "metadata": {},
   "source": [
    "# Create Model"
   ]
  },
  {
   "cell_type": "code",
   "execution_count": 13,
   "metadata": {},
   "outputs": [
    {
     "data": {
      "text/plain": [
       "KMeans(algorithm='auto', copy_x=True, init='k-means++', max_iter=1000,\n",
       "    n_clusters=2, n_init=10, n_jobs=1, precompute_distances='auto',\n",
       "    random_state=0, tol=0.0001, verbose=0)"
      ]
     },
     "execution_count": 13,
     "metadata": {},
     "output_type": "execute_result"
    }
   ],
   "source": [
    "from sklearn.cluster import KMeans\n",
    "\n",
    "cls = KMeans(n_clusters=2,random_state=0,max_iter=1000)\n",
    "\n",
    "cls.fit(X)"
   ]
  },
  {
   "cell_type": "markdown",
   "metadata": {},
   "source": [
    "# Testing Model"
   ]
  },
  {
   "cell_type": "code",
   "execution_count": 22,
   "metadata": {},
   "outputs": [
    {
     "name": "stdout",
     "output_type": "stream",
     "text": [
      "laptop Asus E203NAH-FD012D dengan harga 2999000 itu murah\n",
      "laptop Asus X441UA-WX099D dengan harga 5349000 itu murah\n",
      "laptop Asus X441NA-BX001D dengan harga 3349000 itu murah\n",
      "laptop Asus X441UV-WX094D dengan harga 5499000 itu murah\n",
      "laptop Asus ROG STRIX GL553VD-FY280D dengan harga 16099000 itu murah\n"
     ]
    }
   ],
   "source": [
    "datatest = pd.read_csv('testing.csv',header=None)\n",
    "\n",
    "for (laptop,harga) in zip(datatest[0],datatest[1]):\n",
    "    predict = \"murah\" if cls.predict([[harga]])[0] == 0 else \"mahal\"\n",
    "    print(\"laptop {laptop} dengan harga {harga} itu {hasil}\".format(laptop=laptop,harga=harga,hasil=predict))"
   ]
  },
  {
   "cell_type": "code",
   "execution_count": null,
   "metadata": {},
   "outputs": [],
   "source": []
  }
 ],
 "metadata": {
  "kernelspec": {
   "display_name": "Python 3",
   "language": "python",
   "name": "python3"
  },
  "language_info": {
   "codemirror_mode": {
    "name": "ipython",
    "version": 3
   },
   "file_extension": ".py",
   "mimetype": "text/x-python",
   "name": "python",
   "nbconvert_exporter": "python",
   "pygments_lexer": "ipython3",
   "version": "3.5.4"
  }
 },
 "nbformat": 4,
 "nbformat_minor": 2
}
